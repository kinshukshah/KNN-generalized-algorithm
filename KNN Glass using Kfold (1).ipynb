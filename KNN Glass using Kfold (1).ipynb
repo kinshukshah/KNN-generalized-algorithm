{
 "cells": [
  {
   "cell_type": "code",
   "execution_count": 10,
   "metadata": {},
   "outputs": [],
   "source": [
    "import pandas as pd\n",
    "import math"
   ]
  },
  {
   "cell_type": "code",
   "execution_count": 11,
   "metadata": {},
   "outputs": [],
   "source": [
    "df=pd.read_csv(\"https://archive.ics.uci.edu/ml/machine-learning-databases/glass/glass.data\",names=['Id','RI','Na','Mg','Al','Si','K','Ca','Ba','Fe','Class'])"
   ]
  },
  {
   "cell_type": "code",
   "execution_count": 12,
   "metadata": {},
   "outputs": [],
   "source": [
    "del df['Id']"
   ]
  },
  {
   "cell_type": "code",
   "execution_count": 13,
   "metadata": {},
   "outputs": [
    {
     "name": "stdout",
     "output_type": "stream",
     "text": [
      "[[ 0.87286765  0.28495326  1.25463857 ... -0.14576634 -0.35287683\n",
      "  -0.5864509 ]\n",
      " [-0.24933347  0.59181718  0.63616803 ... -0.79373376 -0.35287683\n",
      "  -0.5864509 ]\n",
      " [-0.72131806  0.14993314  0.60142249 ... -0.82894938 -0.35287683\n",
      "  -0.5864509 ]\n",
      " ...\n",
      " [ 0.75404635  1.16872135 -1.86551055 ... -0.36410319  2.95320036\n",
      "  -0.5864509 ]\n",
      " [-0.61239854  1.19327046 -1.86551055 ... -0.33593069  2.81208731\n",
      "  -0.5864509 ]\n",
      " [-0.41436305  1.00915211 -1.86551055 ... -0.23732695  3.01367739\n",
      "  -0.5864509 ]]\n"
     ]
    }
   ],
   "source": [
    "from sklearn.preprocessing import StandardScaler\n",
    "scaler = StandardScaler()\n",
    "scaler.fit(df.iloc[:,0:9])\n",
    "data1h = scaler.transform(df.iloc[:,0:9])\n",
    "print(data1h)"
   ]
  },
  {
   "cell_type": "code",
   "execution_count": 14,
   "metadata": {},
   "outputs": [
    {
     "name": "stdout",
     "output_type": "stream",
     "text": [
      "Enter the value of k1\n",
      "Enter the value of kfold5\n"
     ]
    }
   ],
   "source": [
    "dz=pd.DataFrame({'RI':data1h[:,0],'Na':data1h[:,1],'Mg':data1h[:,2],'Al':data1h[:,3],'Si':data1h[:,4],'K':data1h[:,5],'Ca':data1h[:,6],'Ba':data1h[:,7],'Fe':data1h[:,8],'Class':df['Class']})\n",
    "kn=int(input(\"Enter the value of k\"))\n",
    "kfold=int(input(\"Enter the value of kfold\"))\n"
   ]
  },
  {
   "cell_type": "code",
   "execution_count": 15,
   "metadata": {},
   "outputs": [],
   "source": [
    "def distance(train,test,i,j,l):\n",
    "    sum=0\n",
    "    for k in range(1,l):\n",
    "        sum=sum+(((test.iloc[:,k][i])-(train.iloc[:,k][j]))**2)\n",
    "        \n",
    "        \n",
    "    return math.sqrt(sum)"
   ]
  },
  {
   "cell_type": "code",
   "execution_count": 16,
   "metadata": {},
   "outputs": [],
   "source": [
    "def det(distance,k,y_train):\n",
    "    a=pd.DataFrame({'dist':distance,'class':y_train['Class']})\n",
    "    z=a.sort_values(by=['dist'])\n",
    "    p=z[0:k]\n",
    "    ms=p['class'].mode()[0]\n",
    "    return ms\n",
    "    "
   ]
  },
  {
   "cell_type": "code",
   "execution_count": 17,
   "metadata": {},
   "outputs": [
    {
     "name": "stdout",
     "output_type": "stream",
     "text": [
      "[1, 1, 1, 1, 1, 1, 1, 1, 1, 1, 2, 1, 2, 1, 1, 1, 1, 1, 1, 1, 1, 1, 1, 1, 1, 1, 1, 1, 1, 1, 1, 1, 1, 1, 1, 1, 1, 1, 1, 1, 1, 1, 1, 1, 1, 1, 1, 1, 1, 1, 2, 1, 1, 1, 1, 2, 1, 1, 1, 1, 1, 1, 1, 1, 1, 1, 2, 2, 2, 1, 2, 2, 2, 2, 2, 2, 2, 2, 2, 2, 2, 2, 2, 2, 2, 2, 2, 2, 2, 2, 2, 2, 2, 2, 2, 2, 2, 1, 2, 2, 2, 2, 1, 1, 1, 2, 2, 2, 2, 2, 2, 2, 2, 2, 2, 2, 2, 2, 2, 2, 2, 2, 2, 2, 2, 2, 2, 2, 2, 2, 2, 2, 2, 2, 2, 2, 2, 2, 2, 2, 2, 2, 2, 2, 2, 2, 2, 2, 2, 2, 2, 2, 2, 2, 2, 2, 2, 2, 2, 2, 2, 2, 2, 7, 6, 5, 5, 5, 6, 5, 5, 5, 5, 5, 3, 5, 5, 5, 5, 5, 5, 5, 5, 5, 5, 5, 5, 5, 5, 5, 5, 5, 5, 5, 5, 5, 5, 5, 5, 5, 5, 5, 5, 5, 5, 5, 5, 5, 5, 5, 5, 5, 5, 5]\n"
     ]
    }
   ],
   "source": [
    "pred=[]\n",
    "import numpy as np\n",
    "list=np.array_split(dz,kfold)\n",
    "for j in range(0,kfold):\n",
    "    test=pd.DataFrame()\n",
    "    train=pd.DataFrame()\n",
    "    for i in range(0,kfold):\n",
    "        if i==j:\n",
    "            test=list[i]\n",
    "        else:\n",
    "            train=train.append(list[i])\n",
    "    \n",
    "    \n",
    "    test.reset_index(drop=True,inplace=True)\n",
    "    train.reset_index(drop=True,inplace=True)\n",
    "\n",
    "    \n",
    "    \n",
    "    \n",
    "    for z in range(0,test.count()[0]):\n",
    "        dist=[]\n",
    "        for p in range(0,train.count()[0]):\n",
    "            dist.append(distance(train.iloc[[p]],test.iloc[[z]],z,p,len(train.columns)))\n",
    "        pred.append(det(dist,kn,train))\n",
    "        \n",
    "\n",
    "    \n",
    "    \n",
    "print(pred)\n",
    "        \n",
    "    \n",
    "    \n",
    "    \n",
    "    \n",
    "        "
   ]
  },
  {
   "cell_type": "code",
   "execution_count": 18,
   "metadata": {},
   "outputs": [
    {
     "data": {
      "text/plain": [
       "0.6728971962616822"
      ]
     },
     "execution_count": 18,
     "metadata": {},
     "output_type": "execute_result"
    }
   ],
   "source": [
    "import numpy as np\n",
    "from sklearn.metrics import accuracy_score\n",
    "true=df['Class'].tolist()\n",
    "accuracy_score(true,pred)\n"
   ]
  },
  {
   "cell_type": "code",
   "execution_count": null,
   "metadata": {},
   "outputs": [],
   "source": []
  },
  {
   "cell_type": "code",
   "execution_count": null,
   "metadata": {},
   "outputs": [],
   "source": []
  }
 ],
 "metadata": {
  "kernelspec": {
   "display_name": "Python 3",
   "language": "python",
   "name": "python3"
  },
  "language_info": {
   "codemirror_mode": {
    "name": "ipython",
    "version": 3
   },
   "file_extension": ".py",
   "mimetype": "text/x-python",
   "name": "python",
   "nbconvert_exporter": "python",
   "pygments_lexer": "ipython3",
   "version": "3.6.4"
  }
 },
 "nbformat": 4,
 "nbformat_minor": 2
}
